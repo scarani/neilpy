{
 "cells": [
  {
   "cell_type": "code",
   "execution_count": 1,
   "metadata": {},
   "outputs": [],
   "source": [
    "import neilpy\n",
    "import rasterio\n",
    "import matplotlib.pyplot as plt\n",
    "import numpy as np\n",
    "from sklearn.metrics import mean_squared_error as mse\n",
    "from skimage.util import apply_parallel\n",
    "from PIL import Image"
   ]
  },
  {
   "cell_type": "code",
   "execution_count": 2,
   "metadata": {},
   "outputs": [],
   "source": [
    "# First we read the data\n",
    "\n",
    "header, df = neilpy.read_las('points.las')"
   ]
  },
  {
   "cell_type": "code",
   "execution_count": null,
   "metadata": {},
   "outputs": [],
   "source": [
    "# Create a DSM for comparison and create a bonemap\n",
    "\n",
    "cellsize = .5\n",
    "\n",
    "Zmax, Tmax = neilpy.create_dem(df.x,df.y,df.z,cellsize=cellsize,bin_type='max',inpaint=True)\n",
    "Bmax = neilpy.pssm(Zmax,cellsize=cellsize)\n",
    "plt.imsave('dsm_bonemap.png',Bmax)\n",
    "neilpy.write_worldfile(Tmax,'dsm_bonemap.pgw')\n",
    "plt.imshow(Bmax,aspect='equal')"
   ]
  },
  {
   "cell_type": "code",
   "execution_count": 8,
   "metadata": {},
   "outputs": [],
   "source": [
    "# Run SMRF\n",
    "\n",
    "windows = 18\n",
    "slope_threshold = .15\n",
    "elevation_threshold = .5\n",
    "elevation_scaler = 1.25\n",
    "\n",
    "Zsmrf, Tsmrf, obj_cells, obj_points = neilpy.smrf(df.x,df.y,df.z,cellsize,windows,slope_threshold,\n",
    "                                                  elevation_threshold,elevation_scaler)"
   ]
  },
  {
   "cell_type": "code",
   "execution_count": 10,
   "metadata": {},
   "outputs": [],
   "source": [
    "# Save filtered DEM\n",
    "with rasterio.open('smrfed.tif', 'w', driver='GTiff', \n",
    "                             height=Zsmrf.shape[0], width=Zsmrf.shape[1],\n",
    "                             count=1, dtype=np.float32, transform=Tsmrf) as src:\n",
    "    src.write(Zsmrf.astype(np.float32), 1)\n",
    "    \n",
    "# Calculate and Save Bonemap\n",
    "Bsmrf = neilpy.pssm(Zsmrf,cellsize=cellsize)\n",
    "plt.imsave('smrfed_bonemap.png',Bsmrf)\n",
    "neilpy.write_worldfile(Tsmrf,'smrfed_bonemap.pgw')"
   ]
  },
  {
   "cell_type": "code",
   "execution_count": null,
   "metadata": {},
   "outputs": [],
   "source": []
  }
 ],
 "metadata": {
  "kernelspec": {
   "display_name": "Python 3",
   "language": "python",
   "name": "python3"
  },
  "language_info": {
   "codemirror_mode": {
    "name": "ipython",
    "version": 3
   },
   "file_extension": ".py",
   "mimetype": "text/x-python",
   "name": "python",
   "nbconvert_exporter": "python",
   "pygments_lexer": "ipython3",
   "version": "3.7.4"
  }
 },
 "nbformat": 4,
 "nbformat_minor": 2
}
